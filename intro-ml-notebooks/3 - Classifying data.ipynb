{
 "cells": [
  {
   "cell_type": "markdown",
   "metadata": {},
   "source": [
    "## Solving some classification problems"
   ]
  },
  {
   "cell_type": "markdown",
   "metadata": {},
   "source": [
    "#### First, let's load some data!"
   ]
  },
  {
   "cell_type": "code",
   "execution_count": 3,
   "metadata": {},
   "outputs": [],
   "source": [
    "import numpy as np\n",
    "from sklearn.datasets import load_iris"
   ]
  },
  {
   "cell_type": "code",
   "execution_count": 5,
   "metadata": {},
   "outputs": [],
   "source": [
    "data = load_iris()\n",
    "X, y = data['data'], data['target']\n",
    "idx = np.random.permutation(len(y))\n",
    "X, y = X[idx], y[idx]\n",
    "X_train, y_train = X[:100], y[:100]\n",
    "X_test, y_test =X[100:], y[100:]"
   ]
  },
  {
   "cell_type": "code",
   "execution_count": 6,
   "metadata": {},
   "outputs": [
    {
     "name": "stdout",
     "output_type": "stream",
     "text": [
      "(100, 4) (100,) (50, 4) (50,)\n"
     ]
    }
   ],
   "source": [
    "print(X_train.shape, y_train.shape, X_test.shape, y_test.shape)"
   ]
  },
  {
   "cell_type": "markdown",
   "metadata": {},
   "source": [
    "### Classification using the k-NN algorithm"
   ]
  },
  {
   "cell_type": "code",
   "execution_count": 7,
   "metadata": {},
   "outputs": [],
   "source": [
    "from sklearn.neighbors import KNeighborsClassifier"
   ]
  },
  {
   "cell_type": "code",
   "execution_count": 21,
   "metadata": {},
   "outputs": [],
   "source": [
    "model = KNeighborsClassifier(n_neighbors=3, metric='euclidean')"
   ]
  },
  {
   "cell_type": "code",
   "execution_count": 22,
   "metadata": {},
   "outputs": [
    {
     "data": {
      "text/plain": [
       "KNeighborsClassifier(algorithm='auto', leaf_size=30, metric='euclidean',\n",
       "           metric_params=None, n_jobs=None, n_neighbors=3, p=2,\n",
       "           weights='uniform')"
      ]
     },
     "execution_count": 22,
     "metadata": {},
     "output_type": "execute_result"
    }
   ],
   "source": [
    "model.fit(X_train, y_train)"
   ]
  },
  {
   "cell_type": "code",
   "execution_count": 23,
   "metadata": {},
   "outputs": [
    {
     "name": "stdout",
     "output_type": "stream",
     "text": [
      "Train acc = 0.99\n"
     ]
    }
   ],
   "source": [
    "print(\"Train acc =\", model.score(X_train, y_train))"
   ]
  },
  {
   "cell_type": "code",
   "execution_count": 24,
   "metadata": {},
   "outputs": [
    {
     "name": "stdout",
     "output_type": "stream",
     "text": [
      "Test acc = 0.94\n"
     ]
    }
   ],
   "source": [
    "print(\"Test acc =\", model.score(X_test, y_test))"
   ]
  },
  {
   "cell_type": "markdown",
   "metadata": {},
   "source": [
    "### Does k impact the accuracy?"
   ]
  },
  {
   "cell_type": "code",
   "execution_count": 16,
   "metadata": {},
   "outputs": [
    {
     "name": "stdout",
     "output_type": "stream",
     "text": [
      "k = 1, train_acc = 100.00, test_acc = 92.00\n",
      "k = 2, train_acc = 100.00, test_acc = 92.00\n",
      "k = 3, train_acc = 99.00, test_acc = 94.00\n",
      "k = 4, train_acc = 100.00, test_acc = 96.00\n",
      "k = 5, train_acc = 100.00, test_acc = 94.00\n",
      "k = 10, train_acc = 98.00, test_acc = 94.00\n",
      "k = 20, train_acc = 98.00, test_acc = 88.00\n"
     ]
    }
   ],
   "source": [
    "for k in [1, 2, 3, 4, 5, 10, 20]:\n",
    "    model = KNeighborsClassifier(n_neighbors=k, metric='euclidean')\n",
    "    model.fit(X_train, y_train)\n",
    "    print(\"k = %d, train_acc = %3.2f, test_acc = %3.2f\"%(k, 100*model.score(X_train, y_train), 100*model.score(X_test, y_test)))\n",
    "    "
   ]
  },
  {
   "cell_type": "markdown",
   "metadata": {},
   "source": [
    "### Let's try another classifier:"
   ]
  },
  {
   "cell_type": "code",
   "execution_count": 17,
   "metadata": {},
   "outputs": [],
   "source": [
    "from sklearn.neighbors import NearestCentroid\n"
   ]
  },
  {
   "cell_type": "code",
   "execution_count": 26,
   "metadata": {},
   "outputs": [
    {
     "name": "stdout",
     "output_type": "stream",
     "text": [
      "Train acc = 0.95\n",
      "Test acc = 0.88\n"
     ]
    }
   ],
   "source": [
    "model = NearestCentroid(metric='euclidean')\n",
    "model.fit(X_train, y_train)\n",
    "print(\"Train acc =\", model.score(X_train, y_train))\n",
    "print(\"Test acc =\", model.score(X_test, y_test))\n"
   ]
  },
  {
   "cell_type": "markdown",
   "metadata": {},
   "source": [
    "### Or another one\n"
   ]
  },
  {
   "cell_type": "code",
   "execution_count": 37,
   "metadata": {},
   "outputs": [
    {
     "name": "stdout",
     "output_type": "stream",
     "text": [
      "Train acc = 0.99\n",
      "Test acc = 0.98\n"
     ]
    }
   ],
   "source": [
    "from sklearn.svm import SVC\n",
    "model = SVC(C=5, kernel='linear')\n",
    "model.fit(X_train, y_train)\n",
    "print(\"Train acc =\", model.score(X_train, y_train))\n",
    "print(\"Test acc =\", model.score(X_test, y_test))\n"
   ]
  },
  {
   "cell_type": "markdown",
   "metadata": {},
   "source": [
    "### Or another one (a regression model in fact! - not the optimal way of doing this)"
   ]
  },
  {
   "cell_type": "code",
   "execution_count": 38,
   "metadata": {},
   "outputs": [],
   "source": [
    "from sklearn.linear_model import LinearRegression"
   ]
  },
  {
   "cell_type": "code",
   "execution_count": 73,
   "metadata": {},
   "outputs": [],
   "source": [
    "model = LinearRegression(fit_intercept=False)\n",
    "model.fit(X_train, y_train)\n",
    "\n",
    "train_predictions = model.predict(X_train)\n",
    "test_predictions = model.predict(X_test)\n",
    "train_predictions = np.int32(np.round(train_predictions))\n",
    "test_predictions = np.int32(np.round(test_predictions))\n"
   ]
  },
  {
   "cell_type": "code",
   "execution_count": 53,
   "metadata": {},
   "outputs": [],
   "source": [
    "train_acc = np.sum(train_predictions==y_train)/len(y_train)\n",
    "test_acc = np.sum(test_predictions==y_test)/len(y_test)"
   ]
  },
  {
   "cell_type": "code",
   "execution_count": 54,
   "metadata": {},
   "outputs": [
    {
     "name": "stdout",
     "output_type": "stream",
     "text": [
      "0.99 0.92\n"
     ]
    }
   ],
   "source": [
    "print(train_acc, test_acc)"
   ]
  },
  {
   "cell_type": "markdown",
   "metadata": {},
   "source": [
    "### Calculating other metrics?"
   ]
  },
  {
   "cell_type": "code",
   "execution_count": 55,
   "metadata": {},
   "outputs": [],
   "source": [
    "from sklearn.metrics import precision_score, recall_score, f1_score, accuracy_score"
   ]
  },
  {
   "cell_type": "code",
   "execution_count": 58,
   "metadata": {},
   "outputs": [
    {
     "name": "stdout",
     "output_type": "stream",
     "text": [
      "Train set: 0.99 0.9901960784313726 0.9895833333333334\n"
     ]
    }
   ],
   "source": [
    "print(\"Train set:\", accuracy_score(y_train, train_predictions), precision_score(y_train, train_predictions, average='macro'), recall_score(y_train, train_predictions, average='macro'))"
   ]
  },
  {
   "cell_type": "code",
   "execution_count": 59,
   "metadata": {},
   "outputs": [
    {
     "name": "stdout",
     "output_type": "stream",
     "text": [
      "Train set: 0.92 0.9277777777777777 0.9226579520697168\n"
     ]
    }
   ],
   "source": [
    "print(\"Train set:\", accuracy_score(y_test, test_predictions), precision_score(y_test, test_predictions, average='macro'), recall_score(y_test, test_predictions, average='macro'))"
   ]
  },
  {
   "cell_type": "code",
   "execution_count": 74,
   "metadata": {},
   "outputs": [
    {
     "name": "stdout",
     "output_type": "stream",
     "text": [
      "0.9897338703308852 0.9232456140350878\n"
     ]
    }
   ],
   "source": [
    "print(f1_score(y_train, train_predictions, average='macro'), f1_score(y_test, test_predictions, average='macro'))"
   ]
  },
  {
   "cell_type": "markdown",
   "metadata": {},
   "source": [
    "### Can we do such things from scratch?"
   ]
  },
  {
   "cell_type": "markdown",
   "metadata": {},
   "source": [
    "### Manually fit a regression model"
   ]
  },
  {
   "cell_type": "code",
   "execution_count": 60,
   "metadata": {},
   "outputs": [],
   "source": [
    "X = X_train"
   ]
  },
  {
   "cell_type": "code",
   "execution_count": 62,
   "metadata": {},
   "outputs": [],
   "source": [
    "W = np.dot(np.dot(np.linalg.inv(np.dot(X.T, X)),X.T), y_train)"
   ]
  },
  {
   "cell_type": "code",
   "execution_count": 63,
   "metadata": {},
   "outputs": [
    {
     "name": "stdout",
     "output_type": "stream",
     "text": [
      "Regression parameters:  [ 2.49849143e-04 -1.08081755e-01  1.05683762e-01  7.68223982e-01]\n"
     ]
    }
   ],
   "source": [
    "print(\"Regression parameters: \", W)"
   ]
  },
  {
   "cell_type": "code",
   "execution_count": 65,
   "metadata": {},
   "outputs": [
    {
     "name": "stdout",
     "output_type": "stream",
     "text": [
      "[ 2.49849143e-04 -1.08081755e-01  1.05683762e-01  7.68223982e-01]\n"
     ]
    }
   ],
   "source": [
    "print(model.coef_)"
   ]
  },
  {
   "cell_type": "markdown",
   "metadata": {},
   "source": [
    "### Confirm that we indeed get the same results!"
   ]
  },
  {
   "cell_type": "code",
   "execution_count": 66,
   "metadata": {},
   "outputs": [],
   "source": [
    "train_predictions = model.predict(X_train)"
   ]
  },
  {
   "cell_type": "code",
   "execution_count": 67,
   "metadata": {},
   "outputs": [],
   "source": [
    "train_predictions_W = np.dot(X_train, W)"
   ]
  },
  {
   "cell_type": "code",
   "execution_count": 69,
   "metadata": {},
   "outputs": [
    {
     "name": "stdout",
     "output_type": "stream",
     "text": [
      "[ 1.98043733e+00  1.15259601e+00  1.10723894e+00 -6.41470600e-02\n",
      " -2.57204248e-04 -5.40582825e-02 -5.37285933e-02 -2.17336956e-02\n",
      "  9.86523016e-02  1.22811458e+00]\n"
     ]
    }
   ],
   "source": [
    "print(train_predictions[:10])"
   ]
  },
  {
   "cell_type": "code",
   "execution_count": 70,
   "metadata": {},
   "outputs": [
    {
     "name": "stdout",
     "output_type": "stream",
     "text": [
      "[ 1.98043733e+00  1.15259601e+00  1.10723894e+00 -6.41470600e-02\n",
      " -2.57204248e-04 -5.40582825e-02 -5.37285933e-02 -2.17336956e-02\n",
      "  9.86523016e-02  1.22811458e+00]\n"
     ]
    }
   ],
   "source": [
    "print(train_predictions_W[:10])"
   ]
  },
  {
   "cell_type": "code",
   "execution_count": null,
   "metadata": {},
   "outputs": [],
   "source": []
  }
 ],
 "metadata": {
  "kernelspec": {
   "display_name": "Python 3",
   "language": "python",
   "name": "python3"
  },
  "language_info": {
   "codemirror_mode": {
    "name": "ipython",
    "version": 3
   },
   "file_extension": ".py",
   "mimetype": "text/x-python",
   "name": "python",
   "nbconvert_exporter": "python",
   "pygments_lexer": "ipython3",
   "version": "3.6.5"
  }
 },
 "nbformat": 4,
 "nbformat_minor": 2
}
