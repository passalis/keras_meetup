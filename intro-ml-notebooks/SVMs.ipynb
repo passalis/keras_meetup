{
 "cells": [
  {
   "cell_type": "markdown",
   "metadata": {},
   "source": [
    "# Using SVM for classifying MNIST digits"
   ]
  },
  {
   "cell_type": "code",
   "execution_count": 1,
   "metadata": {},
   "outputs": [],
   "source": [
    "from keras.datasets.mnist import load_data\n",
    "import numpy as np"
   ]
  },
  {
   "cell_type": "code",
   "execution_count": 2,
   "metadata": {},
   "outputs": [],
   "source": [
    "(X_train, y_train), (X_test, y_test) = load_data()"
   ]
  },
  {
   "cell_type": "code",
   "execution_count": 3,
   "metadata": {},
   "outputs": [
    {
     "name": "stdout",
     "output_type": "stream",
     "text": [
      "(60000, 28, 28)\n"
     ]
    }
   ],
   "source": [
    "print(X_train.shape)"
   ]
  },
  {
   "cell_type": "code",
   "execution_count": 4,
   "metadata": {},
   "outputs": [],
   "source": [
    "X_train = X_train.reshape((-1, 784))/255.0\n",
    "X_test = X_test.reshape((-1, 784))/255.0"
   ]
  },
  {
   "cell_type": "code",
   "execution_count": 6,
   "metadata": {},
   "outputs": [
    {
     "name": "stdout",
     "output_type": "stream",
     "text": [
      "(10000, 784)\n"
     ]
    }
   ],
   "source": [
    "print(X_test.shape)"
   ]
  },
  {
   "cell_type": "markdown",
   "metadata": {},
   "source": [
    "Let's load and appropriately shape the data!"
   ]
  },
  {
   "cell_type": "code",
   "execution_count": 5,
   "metadata": {},
   "outputs": [
    {
     "name": "stdout",
     "output_type": "stream",
     "text": [
      "(60000, 784)\n"
     ]
    }
   ],
   "source": [
    "print(X_train.shape)"
   ]
  },
  {
   "cell_type": "code",
   "execution_count": 7,
   "metadata": {},
   "outputs": [
    {
     "name": "stdout",
     "output_type": "stream",
     "text": [
      "[5 0 4 ... 5 6 8]\n"
     ]
    }
   ],
   "source": [
    "print(y_train)"
   ]
  },
  {
   "cell_type": "code",
   "execution_count": 9,
   "metadata": {},
   "outputs": [],
   "source": [
    "import matplotlib.pyplot as plt"
   ]
  },
  {
   "cell_type": "code",
   "execution_count": 10,
   "metadata": {},
   "outputs": [
    {
     "data": {
      "text/plain": [
       "<matplotlib.image.AxesImage at 0x13eaf789290>"
      ]
     },
     "execution_count": 10,
     "metadata": {},
     "output_type": "execute_result"
    },
    {
     "data": {
      "image/png": "[encoded data removed]",
      "text/plain": [
       "<Figure size 640x480 with 1 Axes>"
      ]
     },
     "metadata": {},
     "output_type": "display_data"
    }
   ],
   "source": [
    "plt.imshow(X_train[2].reshape(28,28), cmap='gray')"
   ]
  },
  {
   "cell_type": "code",
   "execution_count": 12,
   "metadata": {},
   "outputs": [],
   "source": [
    "from sklearn.svm import SVC"
   ]
  },
  {
   "cell_type": "code",
   "execution_count": 13,
   "metadata": {},
   "outputs": [],
   "source": [
    "model = SVC(kernel='linear')"
   ]
  },
  {
   "cell_type": "code",
   "execution_count": 15,
   "metadata": {},
   "outputs": [
    {
     "data": {
      "text/html": [
       "<style>#sk-container-id-2 {color: black;}#sk-container-id-2 pre{padding: 0;}#sk-container-id-2 div.sk-toggleable {background-color: white;}#sk-container-id-2 label.sk-toggleable__label {cursor: pointer;display: block;width: 100%;margin-bottom: 0;padding: 0.3em;box-sizing: border-box;text-align: center;}#sk-container-id-2 label.sk-toggleable__label-arrow:before {content: \"▸\";float: left;margin-right: 0.25em;color: #696969;}#sk-container-id-2 label.sk-toggleable__label-arrow:hover:before {color: black;}#sk-container-id-2 div.sk-estimator:hover label.sk-toggleable__label-arrow:before {color: black;}#sk-container-id-2 div.sk-toggleable__content {max-height: 0;max-width: 0;overflow: hidden;text-align: left;background-color: #f0f8ff;}#sk-container-id-2 div.sk-toggleable__content pre {margin: 0.2em;color: black;border-radius: 0.25em;background-color: #f0f8ff;}#sk-container-id-2 input.sk-toggleable__control:checked~div.sk-toggleable__content {max-height: 200px;max-width: 100%;overflow: auto;}#sk-container-id-2 input.sk-toggleable__control:checked~label.sk-toggleable__label-arrow:before {content: \"▾\";}#sk-container-id-2 div.sk-estimator input.sk-toggleable__control:checked~label.sk-toggleable__label {background-color: #d4ebff;}#sk-container-id-2 div.sk-label input.sk-toggleable__control:checked~label.sk-toggleable__label {background-color: #d4ebff;}#sk-container-id-2 input.sk-hidden--visually {border: 0;clip: rect(1px 1px 1px 1px);clip: rect(1px, 1px, 1px, 1px);height: 1px;margin: -1px;overflow: hidden;padding: 0;position: absolute;width: 1px;}#sk-container-id-2 div.sk-estimator {font-family: monospace;background-color: #f0f8ff;border: 1px dotted black;border-radius: 0.25em;box-sizing: border-box;margin-bottom: 0.5em;}#sk-container-id-2 div.sk-estimator:hover {background-color: #d4ebff;}#sk-container-id-2 div.sk-parallel-item::after {content: \"\";width: 100%;border-bottom: 1px solid gray;flex-grow: 1;}#sk-container-id-2 div.sk-label:hover label.sk-toggleable__label {background-color: #d4ebff;}#sk-container-id-2 div.sk-serial::before {content: \"\";position: absolute;border-left: 1px solid gray;box-sizing: border-box;top: 0;bottom: 0;left: 50%;z-index: 0;}#sk-container-id-2 div.sk-serial {display: flex;flex-direction: column;align-items: center;background-color: white;padding-right: 0.2em;padding-left: 0.2em;position: relative;}#sk-container-id-2 div.sk-item {position: relative;z-index: 1;}#sk-container-id-2 div.sk-parallel {display: flex;align-items: stretch;justify-content: center;background-color: white;position: relative;}#sk-container-id-2 div.sk-item::before, #sk-container-id-2 div.sk-parallel-item::before {content: \"\";position: absolute;border-left: 1px solid gray;box-sizing: border-box;top: 0;bottom: 0;left: 50%;z-index: -1;}#sk-container-id-2 div.sk-parallel-item {display: flex;flex-direction: column;z-index: 1;position: relative;background-color: white;}#sk-container-id-2 div.sk-parallel-item:first-child::after {align-self: flex-end;width: 50%;}#sk-container-id-2 div.sk-parallel-item:last-child::after {align-self: flex-start;width: 50%;}#sk-container-id-2 div.sk-parallel-item:only-child::after {width: 0;}#sk-container-id-2 div.sk-dashed-wrapped {border: 1px dashed gray;margin: 0 0.4em 0.5em 0.4em;box-sizing: border-box;padding-bottom: 0.4em;background-color: white;}#sk-container-id-2 div.sk-label label {font-family: monospace;font-weight: bold;display: inline-block;line-height: 1.2em;}#sk-container-id-2 div.sk-label-container {text-align: center;}#sk-container-id-2 div.sk-container {/* jupyter's `normalize.less` sets `[hidden] { display: none; }` but bootstrap.min.css set `[hidden] { display: none !important; }` so we also need the `!important` here to be able to override the default hidden behavior on the sphinx rendered scikit-learn.org. See: https://github.com/scikit-learn/scikit-learn/issues/21755 */display: inline-block !important;position: relative;}#sk-container-id-2 div.sk-text-repr-fallback {display: none;}</style><div id=\"sk-container-id-2\" class=\"sk-top-container\"><div class=\"sk-text-repr-fallback\"><pre>SVC(kernel=&#x27;linear&#x27;)</pre><b>In a Jupyter environment, please rerun this cell to show the HTML representation or trust the notebook. <br />On GitHub, the HTML representation is unable to render, please try loading this page with nbviewer.org.</b></div><div class=\"sk-container\" hidden><div class=\"sk-item\"><div class=\"sk-estimator sk-toggleable\"><input class=\"sk-toggleable__control sk-hidden--visually\" id=\"sk-estimator-id-2\" type=\"checkbox\" checked><label for=\"sk-estimator-id-2\" class=\"sk-toggleable__label sk-toggleable__label-arrow\">SVC</label><div class=\"sk-toggleable__content\"><pre>SVC(kernel=&#x27;linear&#x27;)</pre></div></div></div></div></div>"
      ],
      "text/plain": [
       "SVC(kernel='linear')"
      ]
     },
     "execution_count": 15,
     "metadata": {},
     "output_type": "execute_result"
    }
   ],
   "source": [
    "model.fit(X_train[:1000], y_train[:1000])"
   ]
  },
  {
   "cell_type": "code",
   "execution_count": 16,
   "metadata": {},
   "outputs": [
    {
     "name": "stdout",
     "output_type": "stream",
     "text": [
      "1.0 0.8758\n"
     ]
    }
   ],
   "source": [
    "print(model.score(X_train[:1000], y_train[:1000]), model.score(X_test, y_test))"
   ]
  },
  {
   "cell_type": "code",
   "execution_count": 18,
   "metadata": {},
   "outputs": [
    {
     "name": "stdout",
     "output_type": "stream",
     "text": [
      "1.0 0.8758\n"
     ]
    }
   ],
   "source": [
    "model.fit(100*X_train[:1000], y_train[:1000])\n",
    "print(model.score(100*X_train[:1000], y_train[:1000]), model.score(100*X_test, y_test))"
   ]
  },
  {
   "cell_type": "code",
   "execution_count": 19,
   "metadata": {},
   "outputs": [
    {
     "name": "stdout",
     "output_type": "stream",
     "text": [
      "Number of support vectors =  [42 52 58 54 60 70 45 55 52 68]\n"
     ]
    }
   ],
   "source": [
    "print(\"Number of support vectors = \", model.n_support_)"
   ]
  },
  {
   "cell_type": "code",
   "execution_count": 24,
   "metadata": {},
   "outputs": [
    {
     "name": "stdout",
     "output_type": "stream",
     "text": [
      "Number of support vectors =  [286 245 380 390 433 412 331 361 395 447]\n",
      "Time elapsed:  6.864240884780884\n",
      "C =  0.1 train/test acc =  0.9338 0.9166\n",
      "Number of support vectors =  [170 127 254 256 273 293 211 229 272 294]\n",
      "Time elapsed:  3.170011520385742\n",
      "C =  1 train/test acc =  0.9872 0.9513\n",
      "Number of support vectors =  [175 129 255 243 261 281 206 228 273 281]\n",
      "Time elapsed:  2.876755475997925\n",
      "C =  10 train/test acc =  1.0 0.9569\n",
      "Number of support vectors =  [175 129 256 243 261 281 206 227 273 279]\n",
      "Time elapsed:  2.811439275741577\n",
      "C =  100 train/test acc =  1.0 0.9569\n",
      "Number of support vectors =  [175 129 256 243 261 281 206 227 273 279]\n",
      "Time elapsed:  2.783200740814209\n",
      "C =  1000 train/test acc =  1.0 0.9569\n"
     ]
    }
   ],
   "source": [
    "from time import time\n",
    "for C in [0.1, 1, 10, 100, 1000]:\n",
    "    model = SVC(C=C)\n",
    "    a = time()\n",
    "    model.fit(X_train[:5000], y_train[:5000])\n",
    "    b = time()\n",
    "    print(\"Number of support vectors = \", model.n_support_)\n",
    "    print(\"Time elapsed: \", b-a)\n",
    "    print(\"C = \", C, \"train/test acc = \", model.score(X_train[:5000], y_train[:5000]), model.score(X_test, y_test))\n",
    "    "
   ]
  },
  {
   "cell_type": "markdown",
   "metadata": {},
   "source": [
    "Let's use another kernel"
   ]
  },
  {
   "cell_type": "code",
   "execution_count": 27,
   "metadata": {},
   "outputs": [],
   "source": []
  },
  {
   "cell_type": "code",
   "execution_count": 28,
   "metadata": {},
   "outputs": [
    {
     "name": "stdout",
     "output_type": "stream",
     "text": [
      "0.189 0.1519\n"
     ]
    }
   ],
   "source": [
    "model = SVC(kernel='rbf', C=0.1, gamma=0.1)\n",
    "model.fit(X_train[:1000], y_train[:1000])\n",
    "print(model.score(X_train[:1000], y_train[:1000]), model.score(X_test, y_test))"
   ]
  },
  {
   "cell_type": "code",
   "execution_count": 30,
   "metadata": {},
   "outputs": [
    {
     "name": "stdout",
     "output_type": "stream",
     "text": [
      "0.737 0.225\n"
     ]
    }
   ],
   "source": [
    "model = SVC(kernel='rbf', C=0.4, gamma=0.1)\n",
    "model.fit(X_train[:1000], y_train[:1000])\n",
    "print(model.score(X_train[:1000], y_train[:1000]), model.score(X_test, y_test))"
   ]
  },
  {
   "cell_type": "code",
   "execution_count": 31,
   "metadata": {},
   "outputs": [
    {
     "name": "stdout",
     "output_type": "stream",
     "text": [
      "1.0 0.4702\n"
     ]
    }
   ],
   "source": [
    "model = SVC(kernel='rbf', C=0.8, gamma=0.1)\n",
    "model.fit(X_train[:1000], y_train[:1000])\n",
    "print(model.score(X_train[:1000], y_train[:1000]), model.score(X_test, y_test))"
   ]
  },
  {
   "cell_type": "code",
   "execution_count": 29,
   "metadata": {},
   "outputs": [
    {
     "name": "stdout",
     "output_type": "stream",
     "text": [
      "1.0 0.612\n"
     ]
    }
   ],
   "source": [
    "model = SVC(kernel='rbf', C=1, gamma=0.1)\n",
    "model.fit(X_train[:1000], y_train[:1000])\n",
    "print(model.score(X_train[:1000], y_train[:1000]), model.score(X_test, y_test))"
   ]
  },
  {
   "cell_type": "code",
   "execution_count": 32,
   "metadata": {},
   "outputs": [
    {
     "name": "stdout",
     "output_type": "stream",
     "text": [
      "1.0 0.6396\n"
     ]
    }
   ],
   "source": [
    "model = SVC(kernel='rbf', C=1.5, gamma=0.1)\n",
    "model.fit(X_train[:1000], y_train[:1000])\n",
    "print(model.score(X_train[:1000], y_train[:1000]), model.score(X_test, y_test))"
   ]
  },
  {
   "cell_type": "code",
   "execution_count": 33,
   "metadata": {},
   "outputs": [
    {
     "name": "stdout",
     "output_type": "stream",
     "text": [
      "1.0 0.6396\n"
     ]
    }
   ],
   "source": [
    "model = SVC(kernel='rbf', C=5, gamma=0.1)\n",
    "model.fit(X_train[:1000], y_train[:1000])\n",
    "print(model.score(X_train[:1000], y_train[:1000]), model.score(X_test, y_test))"
   ]
  },
  {
   "cell_type": "code",
   "execution_count": 34,
   "metadata": {},
   "outputs": [
    {
     "name": "stdout",
     "output_type": "stream",
     "text": [
      "1.0 0.6396\n"
     ]
    }
   ],
   "source": [
    "model = SVC(kernel='rbf', C=10, gamma=0.1)\n",
    "model.fit(X_train[:1000], y_train[:1000])\n",
    "print(model.score(X_train[:1000], y_train[:1000]), model.score(X_test, y_test))"
   ]
  },
  {
   "cell_type": "code",
   "execution_count": 40,
   "metadata": {},
   "outputs": [
    {
     "name": "stdout",
     "output_type": "stream",
     "text": [
      "1.0 0.9078\n"
     ]
    }
   ],
   "source": [
    "model = SVC(kernel='rbf', C=30, gamma=0.007)\n",
    "model.fit(X_train[:1000], y_train[:1000])\n",
    "print(model.score(X_train[:1000], y_train[:1000]), model.score(X_test, y_test))"
   ]
  },
  {
   "cell_type": "code",
   "execution_count": 19,
   "metadata": {},
   "outputs": [
    {
     "name": "stdout",
     "output_type": "stream",
     "text": [
      "0.967 0.9026\n"
     ]
    }
   ],
   "source": []
  },
  {
   "cell_type": "code",
   "execution_count": 20,
   "metadata": {},
   "outputs": [
    {
     "name": "stdout",
     "output_type": "stream",
     "text": [
      "0.861 0.8076\n"
     ]
    }
   ],
   "source": [
    "model = SVC(kernel='rbf', C=1, gamma=0.001)\n",
    "model.fit(X_train[:1000], y_train[:1000])\n",
    "print(model.score(X_train[:1000], y_train[:1000]), model.score(X_test, y_test))"
   ]
  },
  {
   "cell_type": "code",
   "execution_count": 21,
   "metadata": {},
   "outputs": [
    {
     "name": "stdout",
     "output_type": "stream",
     "text": [
      "1.0 0.9171\n"
     ]
    }
   ],
   "source": [
    "model = SVC(kernel='rbf', C=10, gamma=0.02)\n",
    "model.fit(X_train[:1000], y_train[:1000])\n",
    "print(model.score(X_train[:1000], y_train[:1000]), model.score(X_test, y_test))"
   ]
  },
  {
   "cell_type": "code",
   "execution_count": 23,
   "metadata": {},
   "outputs": [
    {
     "name": "stdout",
     "output_type": "stream",
     "text": [
      "1.0 0.1051\n"
     ]
    }
   ],
   "source": [
    "model = SVC(kernel='rbf', C=10, gamma=0.02)\n",
    "model.fit(10*X_train[:1000], y_train[:1000])\n",
    "print(model.score(10*X_train[:1000], y_train[:1000]), model.score(10*X_test, y_test))"
   ]
  },
  {
   "cell_type": "code",
   "execution_count": 22,
   "metadata": {},
   "outputs": [
    {
     "name": "stdout",
     "output_type": "stream",
     "text": [
      "1.0 0.8758\n",
      "Time =  1.4515039920806885\n"
     ]
    }
   ],
   "source": [
    "from time import time\n",
    "model = SVC(kernel='linear', C=1)\n",
    "a = time ()\n",
    "model.fit(X_train[:1000], y_train[:1000])\n",
    "print(model.score(X_train[:1000], y_train[:1000]), model.score(X_test, y_test))\n",
    "print(\"Time = \", time() - a)"
   ]
  },
  {
   "cell_type": "code",
   "execution_count": 38,
   "metadata": {},
   "outputs": [
    {
     "name": "stdout",
     "output_type": "stream",
     "text": [
      "1.0 0.8339\n",
      "Time =  0.3164255619049072\n"
     ]
    }
   ],
   "source": [
    "from time import time\n",
    "from sklearn.svm import LinearSVC\n",
    "model = LinearSVC(loss='hinge', C=1, max_iter=3000, dual=True)\n",
    "a = time ()\n",
    "model.fit(X_train[:1000], y_train[:1000])\n",
    "print(model.score(X_train[:1000], y_train[:1000]), model.score(X_test, y_test))\n",
    "print(\"Time = \", time() - a)"
   ]
  },
  {
   "cell_type": "code",
   "execution_count": 39,
   "metadata": {},
   "outputs": [
    {
     "name": "stdout",
     "output_type": "stream",
     "text": [
      "1.0 0.9101\n",
      "Time =  6.315956115722656\n"
     ]
    }
   ],
   "source": [
    "from time import time\n",
    "model = SVC(kernel='linear', C=1)\n",
    "a = time ()\n",
    "model.fit(X_train[:5000], y_train[:5000])\n",
    "print(model.score(X_train[:1000], y_train[:1000]), model.score(X_test, y_test))\n",
    "print(\"Time = \", time() - a)"
   ]
  },
  {
   "cell_type": "code",
   "execution_count": 42,
   "metadata": {},
   "outputs": [
    {
     "name": "stdout",
     "output_type": "stream",
     "text": [
      "0.968 0.8785\n",
      "Time =  3.492924928665161\n"
     ]
    }
   ],
   "source": [
    "from time import time\n",
    "from sklearn.svm import LinearSVC\n",
    "model = LinearSVC(loss='hinge', C=1, max_iter=10000, dual=True)\n",
    "a = time ()\n",
    "model.fit(X_train[:5000], y_train[:5000])\n",
    "print(model.score(X_train[:1000], y_train[:1000]), model.score(X_test, y_test))\n",
    "print(\"Time = \", time() - a)"
   ]
  },
  {
   "cell_type": "code",
   "execution_count": 41,
   "metadata": {},
   "outputs": [
    {
     "name": "stdout",
     "output_type": "stream",
     "text": [
      "0.998 0.917\n",
      "Time =  17.357165575027466\n"
     ]
    }
   ],
   "source": [
    "from time import time\n",
    "model = SVC(kernel='linear', C=1)\n",
    "a = time ()\n",
    "model.fit(X_train[:10000], y_train[:10000])\n",
    "print(model.score(X_train[:1000], y_train[:1000]), model.score(X_test, y_test))\n",
    "print(\"Time = \", time() - a)"
   ]
  },
  {
   "cell_type": "code",
   "execution_count": 43,
   "metadata": {},
   "outputs": [
    {
     "name": "stdout",
     "output_type": "stream",
     "text": [
      "0.951 0.9\n",
      "Time =  16.174238443374634\n"
     ]
    }
   ],
   "source": [
    "from time import time\n",
    "from sklearn.svm import LinearSVC\n",
    "model = LinearSVC(loss='hinge', C=1, max_iter=40000, dual=True)\n",
    "a = time ()\n",
    "model.fit(X_train[:10000], y_train[:10000])\n",
    "print(model.score(X_train[:1000], y_train[:1000]), model.score(X_test, y_test))\n",
    "print(\"Time = \", time() - a)"
   ]
  },
  {
   "cell_type": "code",
   "execution_count": null,
   "metadata": {},
   "outputs": [],
   "source": [
    "# https://stackoverflow.com/questions/33843981/under-what-parameters-are-svc-and-linearsvc-in-scikit-learn-equivalent"
   ]
  },
  {
   "cell_type": "code",
   "execution_count": 44,
   "metadata": {},
   "outputs": [],
   "source": [
    "from sklearn.decomposition import PCA"
   ]
  },
  {
   "cell_type": "code",
   "execution_count": 45,
   "metadata": {},
   "outputs": [],
   "source": [
    "pca = PCA(n_components=20)"
   ]
  },
  {
   "cell_type": "code",
   "execution_count": 46,
   "metadata": {},
   "outputs": [],
   "source": [
    "X_train_r = pca.fit_transform(X_train)"
   ]
  },
  {
   "cell_type": "code",
   "execution_count": 47,
   "metadata": {},
   "outputs": [],
   "source": [
    "X_test_r = pca.transform(X_test)"
   ]
  },
  {
   "cell_type": "code",
   "execution_count": 53,
   "metadata": {},
   "outputs": [
    {
     "name": "stdout",
     "output_type": "stream",
     "text": [
      "0.90535 0.9096\n",
      "Time =  34.43351650238037\n"
     ]
    }
   ],
   "source": [
    "from time import time\n",
    "model = SVC(kernel='linear', C=1)\n",
    "a = time ()\n",
    "model.fit(X_train_r[:40000], y_train[:40000])\n",
    "print(model.score(X_train_r[:40000], y_train[:40000]), model.score(X_test_r, y_test))\n",
    "print(\"Time = \", time() - a)"
   ]
  },
  {
   "cell_type": "code",
   "execution_count": null,
   "metadata": {},
   "outputs": [],
   "source": [
    "from time import time\n",
    "from sklearn.svm import LinearSVC\n",
    "model = LinearSVC(loss='hinge', C=1, max_iter=300000, dual=True, intercept_scaling=100)\n",
    "a = time ()\n",
    "model.fit(X_train_r[:40000], y_train[:40000])\n",
    "print(model.score(X_train_r[:40000], y_train[:40000]), model.score(X_test_r, y_test))\n",
    "print(\"Time = \", time() - a)"
   ]
  },
  {
   "cell_type": "code",
   "execution_count": 66,
   "metadata": {},
   "outputs": [
    {
     "name": "stdout",
     "output_type": "stream",
     "text": [
      "0.898 0.9096\n",
      "Time =  14.346458196640015\n"
     ]
    }
   ],
   "source": [
    "from time import time\n",
    "model = SVC(kernel='linear', C=1)\n",
    "a = time ()\n",
    "model.fit(X_train_r[:40000], y_train[:40000])\n",
    "print(model.score(X_train_r[:1000], y_train[:1000]), model.score(X_test_r, y_test))\n",
    "print(\"Time = \", time() - a)"
   ]
  },
  {
   "cell_type": "code",
   "execution_count": 67,
   "metadata": {},
   "outputs": [
    {
     "name": "stdout",
     "output_type": "stream",
     "text": [
      "0.85 0.8691\n",
      "Time =  4.430953502655029\n"
     ]
    }
   ],
   "source": [
    "from time import time\n",
    "from sklearn.svm import LinearSVC\n",
    "model = LinearSVC(loss='hinge', C=1, max_iter=300000, dual=True)\n",
    "a = time ()\n",
    "model.fit(X_train_r[:40000], y_train[:40000])\n",
    "print(model.score(X_train_r[:1000], y_train[:1000]), model.score(X_test_r, y_test))\n",
    "print(\"Time = \", time() - a)"
   ]
  },
  {
   "cell_type": "code",
   "execution_count": null,
   "metadata": {},
   "outputs": [],
   "source": []
  },
  {
   "cell_type": "code",
   "execution_count": null,
   "metadata": {},
   "outputs": [],
   "source": []
  }
 ],
 "metadata": {
  "kernelspec": {
   "display_name": "Python 3 (ipykernel)",
   "language": "python",
   "name": "python3"
  },
  "language_info": {
   "codemirror_mode": {
    "name": "ipython",
    "version": 3
   },
   "file_extension": ".py",
   "mimetype": "text/x-python",
   "name": "python",
   "nbconvert_exporter": "python",
   "pygments_lexer": "ipython3",
   "version": "3.11.6"
  }
 },
 "nbformat": 4,
 "nbformat_minor": 4
}
