{
 "cells": [
  {
   "cell_type": "markdown",
   "metadata": {},
   "source": [
    "# Call me back\n",
    "\n",
    "... aka *keras callbacks* ..."
   ]
  },
  {
   "cell_type": "markdown",
   "metadata": {},
   "source": [
    "Keras provides a powerfull mechanism for implementing callbacks, i.e., a function that must be called at a specific point of the training process. We can write our own callbacks (in an another meetup), or use some of the predefined keras callbacks."
   ]
  },
  {
   "cell_type": "markdown",
   "metadata": {},
   "source": [
    "Get some data and define a model!"
   ]
  },
  {
   "cell_type": "code",
   "execution_count": 2,
   "metadata": {},
   "outputs": [],
   "source": [
    "import keras\n",
    "import numpy as np\n",
    "from keras.datasets import mnist\n",
    "from keras.models import Sequential\n",
    "from keras.layers import Dense, Activation, MaxPool2D, Conv2D, Flatten\n",
    "from keras.optimizers import Adam\n",
    "\n",
    "\n",
    "# Prepare the data\n",
    "(x_train, y_train), (x_test, y_test) = mnist.load_data()\n",
    "x_train = x_train.reshape((-1, 28, 28, 1)) / 255.0\n",
    "x_test = x_test.reshape((-1, 28, 28, 1)) / 255.0\n",
    "y_train = keras.utils.to_categorical(y_train, num_classes=10)\n",
    "y_test = keras.utils.to_categorical(y_test, num_classes=10)\n",
    "\n",
    "model = Sequential()\n",
    "model.add(Conv2D(64, kernel_size=(5, 5), activation='relu', input_shape=(28, 28, 1)))\n",
    "model.add(MaxPool2D(pool_size=(2, 2)))\n",
    "model.add(Conv2D(128, (5, 5), activation='relu'))\n",
    "model.add(MaxPool2D(pool_size=(2, 2)))\n",
    "model.add(Flatten())\n",
    "model.add(Dense(256, activation='relu'))\n",
    "model.add(Dense(10, activation='softmax'))\n",
    "\n",
    "model.compile(loss='categorical_crossentropy', optimizer='adam', metrics=['accuracy'])"
   ]
  },
  {
   "cell_type": "markdown",
   "metadata": {},
   "source": [
    "Let's define some callbacks:"
   ]
  },
  {
   "cell_type": "code",
   "execution_count": 3,
   "metadata": {},
   "outputs": [],
   "source": [
    "!mkdir -p models\n",
    "!mkdir -p logs"
   ]
  },
  {
   "cell_type": "code",
   "execution_count": 10,
   "metadata": {},
   "outputs": [],
   "source": [
    "from keras.callbacks import EarlyStopping, ModelCheckpoint, TensorBoard\n",
    "\n",
    "# Early Stopping automatically stops the training when a quantity has stopped improving\n",
    "# If you use the test set as the validation set, you are cheating!!!\n",
    "stopper = keras.callbacks.EarlyStopping(monitor='val_loss', min_delta=0, patience=2, verbose=1, mode='min')\n",
    "\n",
    "# Save the model every 2 epochs!\n",
    "checkpoint = keras.callbacks.ModelCheckpoint('models/weights.{epoch:02d}.keras', monitor='val_loss', verbose=1, save_best_only=False, \n",
    "                                             save_weights_only=False)\n",
    "\n",
    "tensorboard = keras.callbacks.TensorBoard(log_dir='./logs', histogram_freq=1)\n"
   ]
  },
  {
   "cell_type": "code",
   "execution_count": 11,
   "metadata": {},
   "outputs": [
    {
     "name": "stdout",
     "output_type": "stream",
     "text": [
      "Epoch 1/30\n"
     ]
    },
    {
     "name": "stderr",
     "output_type": "stream",
     "text": [
      "WARNING: All log messages before absl::InitializeLog() is called are written to STDERR\n",
      "I0000 00:00:1727955727.258520 2367559 service.cc:146] XLA service 0x79b838006160 initialized for platform CUDA (this does not guarantee that XLA will be used). Devices:\n",
      "I0000 00:00:1727955727.258540 2367559 service.cc:154]   StreamExecutor device (0): NVIDIA GeForce RTX 3080 Ti, Compute Capability 8.6\n",
      "2024-10-03 14:42:07.279975: I tensorflow/compiler/mlir/tensorflow/utils/dump_mlir_util.cc:268] disabling MLIR crash reproducer, set env var `MLIR_CRASH_REPRODUCER_DIRECTORY` to enable.\n",
      "2024-10-03 14:42:07.395611: I external/local_xla/xla/stream_executor/cuda/cuda_dnn.cc:531] Loaded cuDNN version 8907\n",
      "2024-10-03 14:42:07.429086: W external/local_xla/xla/service/gpu/nvptx_compiler.cc:762] The NVIDIA driver's CUDA version is 12.2 which is older than the ptxas CUDA version (12.3.107). Because the driver is older than the ptxas version, XLA is disabling parallel compilation, which may slow down compilation. You should update your NVIDIA driver or use the NVIDIA-provided CUDA forward compatibility packages.\n",
      "I0000 00:00:1727955730.593496 2367559 device_compiler.h:188] Compiled cluster using XLA!  This line is logged at most once for the lifetime of the process.\n"
     ]
    },
    {
     "name": "stdout",
     "output_type": "stream",
     "text": [
      "\n",
      "Epoch 1: saving model to models/weights.01.keras\n",
      "235/235 - 9s - 38ms/step - accuracy: 0.9410 - loss: 0.1959 - val_accuracy: 0.9859 - val_loss: 0.0466\n",
      "Epoch 2/30\n",
      "\n",
      "Epoch 2: saving model to models/weights.02.keras\n",
      "235/235 - 1s - 5ms/step - accuracy: 0.9856 - loss: 0.0473 - val_accuracy: 0.9885 - val_loss: 0.0334\n",
      "Epoch 3/30\n",
      "\n",
      "Epoch 3: saving model to models/weights.03.keras\n",
      "235/235 - 1s - 5ms/step - accuracy: 0.9902 - loss: 0.0313 - val_accuracy: 0.9895 - val_loss: 0.0313\n",
      "Epoch 4/30\n",
      "\n",
      "Epoch 4: saving model to models/weights.04.keras\n",
      "235/235 - 1s - 5ms/step - accuracy: 0.9929 - loss: 0.0229 - val_accuracy: 0.9911 - val_loss: 0.0269\n",
      "Epoch 5/30\n",
      "\n",
      "Epoch 5: saving model to models/weights.05.keras\n",
      "235/235 - 1s - 5ms/step - accuracy: 0.9948 - loss: 0.0163 - val_accuracy: 0.9914 - val_loss: 0.0253\n",
      "Epoch 6/30\n",
      "\n",
      "Epoch 6: saving model to models/weights.06.keras\n",
      "235/235 - 1s - 5ms/step - accuracy: 0.9958 - loss: 0.0138 - val_accuracy: 0.9862 - val_loss: 0.0484\n",
      "Epoch 7/30\n",
      "\n",
      "Epoch 7: saving model to models/weights.07.keras\n",
      "235/235 - 1s - 5ms/step - accuracy: 0.9966 - loss: 0.0111 - val_accuracy: 0.9925 - val_loss: 0.0234\n",
      "Epoch 8/30\n",
      "\n",
      "Epoch 8: saving model to models/weights.08.keras\n",
      "235/235 - 1s - 5ms/step - accuracy: 0.9974 - loss: 0.0080 - val_accuracy: 0.9935 - val_loss: 0.0226\n",
      "Epoch 9/30\n",
      "\n",
      "Epoch 9: saving model to models/weights.09.keras\n",
      "235/235 - 1s - 5ms/step - accuracy: 0.9977 - loss: 0.0071 - val_accuracy: 0.9919 - val_loss: 0.0352\n",
      "Epoch 10/30\n",
      "\n",
      "Epoch 10: saving model to models/weights.10.keras\n",
      "235/235 - 1s - 5ms/step - accuracy: 0.9976 - loss: 0.0075 - val_accuracy: 0.9925 - val_loss: 0.0304\n",
      "Epoch 10: early stopping\n"
     ]
    }
   ],
   "source": [
    "results = model.fit(x_train, y_train, batch_size=256, epochs=30,\n",
    "          verbose=2, validation_data=(x_test, y_test), callbacks=[stopper, checkpoint, tensorboard])\n"
   ]
  },
  {
   "cell_type": "code",
   "execution_count": 10,
   "metadata": {},
   "outputs": [
    {
     "name": "stdout",
     "output_type": "stream",
     "text": [
      "weights.02-0.03.hdf5,  weights.04-0.02.hdf5,\r\n",
      "weights.02-0.04.hdf5,  weights.06-0.02.hdf5,\r\n"
     ]
    }
   ],
   "source": [
    "!ls models"
   ]
  },
  {
   "cell_type": "markdown",
   "metadata": {},
   "source": [
    "Start the tensorboard!\n",
    "\n"
   ]
  },
  {
   "cell_type": "code",
   "execution_count": null,
   "metadata": {},
   "outputs": [
    {
     "name": "stdout",
     "output_type": "stream",
     "text": [
      "2024-10-03 14:43:21.925507: E external/local_xla/xla/stream_executor/cuda/cuda_fft.cc:485] Unable to register cuFFT factory: Attempting to register factory for plugin cuFFT when one has already been registered\n",
      "2024-10-03 14:43:21.939401: E external/local_xla/xla/stream_executor/cuda/cuda_dnn.cc:8454] Unable to register cuDNN factory: Attempting to register factory for plugin cuDNN when one has already been registered\n",
      "2024-10-03 14:43:21.943599: E external/local_xla/xla/stream_executor/cuda/cuda_blas.cc:1452] Unable to register cuBLAS factory: Attempting to register factory for plugin cuBLAS when one has already been registered\n",
      "2024-10-03 14:43:21.954826: I tensorflow/core/platform/cpu_feature_guard.cc:210] This TensorFlow binary is optimized to use available CPU instructions in performance-critical operations.\n",
      "To enable the following instructions: AVX2 FMA, in other operations, rebuild TensorFlow with the appropriate compiler flags.\n",
      "2024-10-03 14:43:22.565562: W tensorflow/compiler/tf2tensorrt/utils/py_utils.cc:38] TF-TRT Warning: Could not find TensorRT\n",
      "WARNING: All log messages before absl::InitializeLog() is called are written to STDERR\n",
      "I0000 00:00:1727955803.273935 2368269 cuda_executor.cc:1015] successful NUMA node read from SysFS had negative value (-1), but there must be at least one NUMA node, so returning NUMA node zero. See more at https://github.com/torvalds/linux/blob/v6.0/Documentation/ABI/testing/sysfs-bus-pci#L344-L355\n",
      "I0000 00:00:1727955803.306756 2368269 cuda_executor.cc:1015] successful NUMA node read from SysFS had negative value (-1), but there must be at least one NUMA node, so returning NUMA node zero. See more at https://github.com/torvalds/linux/blob/v6.0/Documentation/ABI/testing/sysfs-bus-pci#L344-L355\n",
      "I0000 00:00:1727955803.306943 2368269 cuda_executor.cc:1015] successful NUMA node read from SysFS had negative value (-1), but there must be at least one NUMA node, so returning NUMA node zero. See more at https://github.com/torvalds/linux/blob/v6.0/Documentation/ABI/testing/sysfs-bus-pci#L344-L355\n",
      "\n",
      "NOTE: Using experimental fast data loading logic. To disable, pass\n",
      "    \"--load_fast=false\" and report issues on GitHub. More details:\n",
      "    https://github.com/tensorflow/tensorboard/issues/4784\n",
      "\n",
      "Serving TensorBoard on localhost; to expose to the network, use a proxy or pass --bind_all\n",
      "TensorBoard 2.17.1 at http://localhost:6006/ (Press CTRL+C to quit)\n"
     ]
    }
   ],
   "source": [
    "!python3 -m tensorboard.main --logdir logs"
   ]
  },
  {
   "cell_type": "markdown",
   "metadata": {},
   "source": [
    "![alt text](tensor1.png \"Title\")\n",
    "![alt text](tensor2.png \"Title\")"
   ]
  }
 ],
 "metadata": {
  "kernelspec": {
   "display_name": "Python 3 (ipykernel)",
   "language": "python",
   "name": "python3"
  },
  "language_info": {
   "codemirror_mode": {
    "name": "ipython",
    "version": 3
   },
   "file_extension": ".py",
   "mimetype": "text/x-python",
   "name": "python",
   "nbconvert_exporter": "python",
   "pygments_lexer": "ipython3",
   "version": "3.10.12"
  }
 },
 "nbformat": 4,
 "nbformat_minor": 4
}
